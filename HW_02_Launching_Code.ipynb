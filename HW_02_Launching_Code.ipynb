{
 "cells": [
  {
   "cell_type": "code",
   "execution_count": 1,
   "metadata": {},
   "outputs": [],
   "source": [
    "## Author: Birju Dhaduk\n",
    "## Date: 20001005\n",
    "## CS301-006, Professor Watson\n",
    "## HW02 Solution\n",
    "## Wrote code in order to find the 5 number summary using 2 different methods\n",
    "## https://github.com/birjudhaduk/cs301\n",
    "## \n",
    "## 20200204 - Finished HW02, commit name: \n",
    "## master"
   ]
  },
  {
   "cell_type": "markdown",
   "metadata": {},
   "source": [
    "## HW 02 - Base Code to Start"
   ]
  },
  {
   "cell_type": "code",
   "execution_count": 2,
   "metadata": {},
   "outputs": [
    {
     "name": "stdout",
     "output_type": "stream",
     "text": [
      "Press shift+enter to run this code, you will see the output right below the cell\n"
     ]
    }
   ],
   "source": [
    "#This is an example of a cell for Python code\n",
    "print('Press shift+enter to run this code, you will see the output right below the cell')"
   ]
  },
  {
   "cell_type": "markdown",
   "metadata": {},
   "source": [
    "### The following cells contain markdown. This cell already ran (shift+enter)"
   ]
  },
  {
   "cell_type": "markdown",
   "metadata": {},
   "source": [
    "This cell has basic markdown text (to run, press shift+enter)"
   ]
  },
  {
   "cell_type": "markdown",
   "metadata": {},
   "source": [
    "### This is a markdown Level 3 header (to run, press shift+enter)"
   ]
  },
  {
   "cell_type": "markdown",
   "metadata": {},
   "source": [
    "#### Use these two samples to test your functions"
   ]
  },
  {
   "cell_type": "code",
   "execution_count": 3,
   "metadata": {},
   "outputs": [],
   "source": [
    "grades = [0, 0, 14, 35, 63, 66, 75, 77, 78, 80, 81, 81, 87, 89, 90, 91, 100]"
   ]
  },
  {
   "cell_type": "code",
   "execution_count": 4,
   "metadata": {},
   "outputs": [],
   "source": [
    "times = [5, 10, 10, 15, 15, 15, 15, 20, 20, 20, 25, 30, 30, 40, 40, 45, 60, 60, 65, 89]"
   ]
  },
  {
   "cell_type": "markdown",
   "metadata": {},
   "source": [
    "### Please answer Problem 2 below:"
   ]
  },
  {
   "cell_type": "code",
   "execution_count": 5,
   "metadata": {},
   "outputs": [],
   "source": [
    "import numpy as np\n",
    "\n",
    "def q_summary_V1(nums):\n",
    "    nums = sorted(nums)\n",
    "    q1 = np.quantile(nums, .25)\n",
    "    q2 = np.quantile(nums, .5)\n",
    "    q3 = np.quantile(nums, .75)\n",
    "    iqr = q3 - q1\n",
    "    out = []\n",
    "    lower = q1 - 1.5 * iqr\n",
    "    i = 0\n",
    "    while nums[i] < lower:\n",
    "        out.append(nums[i])\n",
    "        i += 1\n",
    "    min = nums[i]\n",
    "    upper = q3 + 1.5 * iqr\n",
    "    j = -1\n",
    "    while nums[j] > upper:\n",
    "        out.append(nums[j])\n",
    "        j -= 1\n",
    "    max = nums[j]\n",
    "    dict = {}\n",
    "    dict['min'] = min\n",
    "    dict['q1'] = q1\n",
    "    dict['q2'] = q2\n",
    "    dict['q3'] = q3\n",
    "    dict['max'] = max\n",
    "    if len(out) > 0:\n",
    "        print(\"The outliers are \", end = \"\")\n",
    "        print(out)\n",
    "    return dict"
   ]
  },
  {
   "cell_type": "code",
   "execution_count": 6,
   "metadata": {},
   "outputs": [
    {
     "name": "stdout",
     "output_type": "stream",
     "text": [
      "The outliers are [0, 0, 14]\n",
      "{'min': 35, 'q1': 63.0, 'q2': 78.0, 'q3': 87.0, 'max': 100}\n"
     ]
    }
   ],
   "source": [
    "print(q_summary_V1(grades))"
   ]
  },
  {
   "cell_type": "code",
   "execution_count": 7,
   "metadata": {},
   "outputs": [
    {
     "name": "stdout",
     "output_type": "stream",
     "text": [
      "The outliers are [89]\n",
      "{'min': 5, 'q1': 15.0, 'q2': 22.5, 'q3': 41.25, 'max': 65}\n"
     ]
    }
   ],
   "source": [
    "print(q_summary_V1(times))"
   ]
  },
  {
   "cell_type": "markdown",
   "metadata": {},
   "source": [
    "### Please answer Problem 3 below:"
   ]
  },
  {
   "cell_type": "code",
   "execution_count": 8,
   "metadata": {},
   "outputs": [],
   "source": [
    "def get_quantile_indexes(n, p):\n",
    "    '''\n",
    "    Calculate index values as input for interpolation\n",
    "    \n",
    "    input\n",
    "    _____\n",
    "    n (list) - the list of numbers\n",
    "    p (float) - the percentage corresponding to the quantile (ex:0.25)\n",
    "    \n",
    "    output\n",
    "    ______\n",
    "    l, i, u (float) - the corresponding x1, x, x1 values as calculated via class\n",
    "    '''\n",
    "    i = p*(n+1) - 1\n",
    "    l = np.floor(i)\n",
    "    u = np.ceil(i)\n",
    "    return l,i,u\n",
    "\n",
    "\n",
    "def get_quantile(nums, q):\n",
    "    '''\n",
    "    Use the in-class method of interpolation to calculate the quantile\n",
    "    \n",
    "    input\n",
    "    _____\n",
    "    nums (list) - the list of numbers\n",
    "    q (float) - the quantile desired\n",
    "    \n",
    "    output\n",
    "    ______\n",
    "    y (int/float) - this is the value in nums at the given quantile q\n",
    "    '''\n",
    "    x1, x, x2 = get_quantile_indexes(len(nums), q)\n",
    "    if np.floor(x) == x1 and np.ceil(x) == x1:\n",
    "        x = int(x)\n",
    "        y = nums[x]\n",
    "        # print('x = {}, y = {}'.format(x, y))\n",
    "        return y\n",
    "        \n",
    "    # print('x1, x, x2 = {}, {}, {}'.format(x1, x, x2))\n",
    "    y1, y2 = nums[int(x1)], nums[int(x2)]\n",
    "    # print('y1, y2 = {}, {}'.format(y1, y2))\n",
    "    y = (x - x1) * (y1-y2) / (x1 - x2) + y1\n",
    "    # print('y =', y)\n",
    "    return y"
   ]
  },
  {
   "cell_type": "code",
   "execution_count": 9,
   "metadata": {},
   "outputs": [],
   "source": [
    "import numpy as np\n",
    "\n",
    "def q_summary_V2(nums):\n",
    "    nums = sorted(nums)\n",
    "    q1 = get_quantile(nums, .25)\n",
    "    q2 = get_quantile(nums, .5)\n",
    "    q3 = get_quantile(nums, .75)\n",
    "    iqr = q3 - q1\n",
    "    out = []\n",
    "    lower = q1 - 1.5 * iqr\n",
    "    i = 0\n",
    "    while nums[i] < lower:\n",
    "        out.append(nums[i])\n",
    "        i += 1\n",
    "    min = nums[i]\n",
    "    upper = q3 + 1.5 * iqr\n",
    "    j = -1\n",
    "    while nums[j] > upper:\n",
    "        out.append(nums[j])\n",
    "        j -= 1\n",
    "    max = nums[j]\n",
    "    dict = {}\n",
    "    dict['min'] = min\n",
    "    dict['q1'] = q1\n",
    "    dict['q2'] = q2\n",
    "    dict['q3'] = q3\n",
    "    dict['max'] = max\n",
    "    if len(out) > 0:\n",
    "        print(\"The outliers are \", end = \"\")\n",
    "        print(out)\n",
    "    return dict"
   ]
  },
  {
   "cell_type": "code",
   "execution_count": 10,
   "metadata": {},
   "outputs": [
    {
     "name": "stdout",
     "output_type": "stream",
     "text": [
      "{'min': 0, 'q1': 49.0, 'q2': 78, 'q3': 88.0, 'max': 100}\n"
     ]
    }
   ],
   "source": [
    "print(q_summary_V2(grades))"
   ]
  },
  {
   "cell_type": "code",
   "execution_count": 11,
   "metadata": {},
   "outputs": [
    {
     "name": "stdout",
     "output_type": "stream",
     "text": [
      "The outliers are [89]\n",
      "{'min': 5, 'q1': 15.0, 'q2': 22.5, 'q3': 43.75, 'max': 65}\n"
     ]
    }
   ],
   "source": [
    "print(q_summary_V2(times))"
   ]
  }
 ],
 "metadata": {
  "kernelspec": {
   "display_name": "Python 3",
   "language": "python",
   "name": "python3"
  },
  "language_info": {
   "codemirror_mode": {
    "name": "ipython",
    "version": 3
   },
   "file_extension": ".py",
   "mimetype": "text/x-python",
   "name": "python",
   "nbconvert_exporter": "python",
   "pygments_lexer": "ipython3",
   "version": "3.7.4"
  }
 },
 "nbformat": 4,
 "nbformat_minor": 2
}
