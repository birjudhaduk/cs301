{
 "cells": [
  {
   "cell_type": "code",
   "execution_count": 1,
   "metadata": {},
   "outputs": [],
   "source": [
    "# Author: Birju Dhaduk\n",
    "# Date: 20200302\n",
    "# CS301-006, Professor Watson\n",
    "# HW05 Solution\n",
    "# Created graphs to display the data visually and analyzed and critiqued the different parts of the graphs.\n",
    "# https://github.com/birjudhaduk/cs301\n",
    "# https://github.com/birjudhaduk/cs301/commit/81393e490b12ce8c03b280b106f27d7926d3cc66\n",
    "# master"
   ]
  },
  {
   "cell_type": "markdown",
   "metadata": {},
   "source": [
    "# CS 301 HW 05"
   ]
  },
  {
   "cell_type": "code",
   "execution_count": 2,
   "metadata": {},
   "outputs": [],
   "source": [
    "import pandas as pd\n",
    "import numpy as np\n",
    "import matplotlib as mpl\n",
    "import matplotlib.pyplot as plt\n",
    "import matplotlib.lines as mlines"
   ]
  },
  {
   "cell_type": "code",
   "execution_count": 3,
   "metadata": {},
   "outputs": [
    {
     "data": {
      "text/html": [
       "<div>\n",
       "<style scoped>\n",
       "    .dataframe tbody tr th:only-of-type {\n",
       "        vertical-align: middle;\n",
       "    }\n",
       "\n",
       "    .dataframe tbody tr th {\n",
       "        vertical-align: top;\n",
       "    }\n",
       "\n",
       "    .dataframe thead th {\n",
       "        text-align: right;\n",
       "    }\n",
       "</style>\n",
       "<table border=\"1\" class=\"dataframe\">\n",
       "  <thead>\n",
       "    <tr style=\"text-align: right;\">\n",
       "      <th></th>\n",
       "      <th>Unnamed: 0</th>\n",
       "      <th>Name</th>\n",
       "      <th>Midterm</th>\n",
       "      <th>Final</th>\n",
       "      <th>Attendance</th>\n",
       "      <th>HW</th>\n",
       "      <th>Final Average</th>\n",
       "      <th>Final Letter</th>\n",
       "      <th>Numeric Bin</th>\n",
       "      <th>Majors</th>\n",
       "    </tr>\n",
       "  </thead>\n",
       "  <tbody>\n",
       "    <tr>\n",
       "      <td>0</td>\n",
       "      <td>0</td>\n",
       "      <td>Ariel</td>\n",
       "      <td>89</td>\n",
       "      <td>92</td>\n",
       "      <td>9</td>\n",
       "      <td>9</td>\n",
       "      <td>86.0</td>\n",
       "      <td>B+</td>\n",
       "      <td>80.0</td>\n",
       "      <td>BNFO</td>\n",
       "    </tr>\n",
       "    <tr>\n",
       "      <td>1</td>\n",
       "      <td>1</td>\n",
       "      <td>Brody</td>\n",
       "      <td>92</td>\n",
       "      <td>93</td>\n",
       "      <td>10</td>\n",
       "      <td>9</td>\n",
       "      <td>89.0</td>\n",
       "      <td>A</td>\n",
       "      <td>80.0</td>\n",
       "      <td>BNFO</td>\n",
       "    </tr>\n",
       "    <tr>\n",
       "      <td>2</td>\n",
       "      <td>2</td>\n",
       "      <td>Debra</td>\n",
       "      <td>76</td>\n",
       "      <td>88</td>\n",
       "      <td>8</td>\n",
       "      <td>6</td>\n",
       "      <td>74.0</td>\n",
       "      <td>C+</td>\n",
       "      <td>70.0</td>\n",
       "      <td>MATH</td>\n",
       "    </tr>\n",
       "    <tr>\n",
       "      <td>3</td>\n",
       "      <td>3</td>\n",
       "      <td>Rex</td>\n",
       "      <td>90</td>\n",
       "      <td>83</td>\n",
       "      <td>10</td>\n",
       "      <td>10</td>\n",
       "      <td>88.0</td>\n",
       "      <td>B+</td>\n",
       "      <td>80.0</td>\n",
       "      <td>MATH</td>\n",
       "    </tr>\n",
       "    <tr>\n",
       "      <td>4</td>\n",
       "      <td>4</td>\n",
       "      <td>Jerry</td>\n",
       "      <td>67</td>\n",
       "      <td>85</td>\n",
       "      <td>7</td>\n",
       "      <td>5</td>\n",
       "      <td>66.0</td>\n",
       "      <td>D</td>\n",
       "      <td>60.0</td>\n",
       "      <td>BNFO</td>\n",
       "    </tr>\n",
       "    <tr>\n",
       "      <td>...</td>\n",
       "      <td>...</td>\n",
       "      <td>...</td>\n",
       "      <td>...</td>\n",
       "      <td>...</td>\n",
       "      <td>...</td>\n",
       "      <td>...</td>\n",
       "      <td>...</td>\n",
       "      <td>...</td>\n",
       "      <td>...</td>\n",
       "      <td>...</td>\n",
       "    </tr>\n",
       "    <tr>\n",
       "      <td>145</td>\n",
       "      <td>145</td>\n",
       "      <td>Nicole</td>\n",
       "      <td>97</td>\n",
       "      <td>96</td>\n",
       "      <td>9</td>\n",
       "      <td>8</td>\n",
       "      <td>86.7</td>\n",
       "      <td>B+</td>\n",
       "      <td>80.0</td>\n",
       "      <td>MATH</td>\n",
       "    </tr>\n",
       "    <tr>\n",
       "      <td>146</td>\n",
       "      <td>146</td>\n",
       "      <td>Duncan</td>\n",
       "      <td>99</td>\n",
       "      <td>98</td>\n",
       "      <td>10</td>\n",
       "      <td>8</td>\n",
       "      <td>90.2</td>\n",
       "      <td>A</td>\n",
       "      <td>90.0</td>\n",
       "      <td>BNFO</td>\n",
       "    </tr>\n",
       "    <tr>\n",
       "      <td>147</td>\n",
       "      <td>147</td>\n",
       "      <td>Hope</td>\n",
       "      <td>96</td>\n",
       "      <td>92</td>\n",
       "      <td>10</td>\n",
       "      <td>9</td>\n",
       "      <td>89.8</td>\n",
       "      <td>A</td>\n",
       "      <td>80.0</td>\n",
       "      <td>IT</td>\n",
       "    </tr>\n",
       "    <tr>\n",
       "      <td>148</td>\n",
       "      <td>148</td>\n",
       "      <td>Kiara</td>\n",
       "      <td>93</td>\n",
       "      <td>91</td>\n",
       "      <td>10</td>\n",
       "      <td>10</td>\n",
       "      <td>90.9</td>\n",
       "      <td>A</td>\n",
       "      <td>90.0</td>\n",
       "      <td>CS</td>\n",
       "    </tr>\n",
       "    <tr>\n",
       "      <td>149</td>\n",
       "      <td>149</td>\n",
       "      <td>Zunair</td>\n",
       "      <td>95</td>\n",
       "      <td>82</td>\n",
       "      <td>9</td>\n",
       "      <td>10</td>\n",
       "      <td>86.1</td>\n",
       "      <td>B+</td>\n",
       "      <td>80.0</td>\n",
       "      <td>MATH</td>\n",
       "    </tr>\n",
       "  </tbody>\n",
       "</table>\n",
       "<p>150 rows × 10 columns</p>\n",
       "</div>"
      ],
      "text/plain": [
       "     Unnamed: 0    Name  Midterm  Final  Attendance  HW  Final Average  \\\n",
       "0             0   Ariel       89     92           9   9           86.0   \n",
       "1             1   Brody       92     93          10   9           89.0   \n",
       "2             2   Debra       76     88           8   6           74.0   \n",
       "3             3     Rex       90     83          10  10           88.0   \n",
       "4             4   Jerry       67     85           7   5           66.0   \n",
       "..          ...     ...      ...    ...         ...  ..            ...   \n",
       "145         145  Nicole       97     96           9   8           86.7   \n",
       "146         146  Duncan       99     98          10   8           90.2   \n",
       "147         147    Hope       96     92          10   9           89.8   \n",
       "148         148   Kiara       93     91          10  10           90.9   \n",
       "149         149  Zunair       95     82           9  10           86.1   \n",
       "\n",
       "    Final Letter  Numeric Bin Majors  \n",
       "0             B+         80.0   BNFO  \n",
       "1              A         80.0   BNFO  \n",
       "2             C+         70.0   MATH  \n",
       "3             B+         80.0   MATH  \n",
       "4              D         60.0   BNFO  \n",
       "..           ...          ...    ...  \n",
       "145           B+         80.0   MATH  \n",
       "146            A         90.0   BNFO  \n",
       "147            A         80.0     IT  \n",
       "148            A         90.0     CS  \n",
       "149           B+         80.0   MATH  \n",
       "\n",
       "[150 rows x 10 columns]"
      ]
     },
     "execution_count": 3,
     "metadata": {},
     "output_type": "execute_result"
    }
   ],
   "source": [
    "sc_df = pd.read_csv('C:\\\\Users\\\\birju\\\\Documents\\\\CS 301\\\\student_class.csv')\n",
    "sc_df"
   ]
  },
  {
   "cell_type": "markdown",
   "metadata": {},
   "source": [
    "## Problem 1"
   ]
  },
  {
   "cell_type": "code",
   "execution_count": 4,
   "metadata": {},
   "outputs": [
    {
     "data": {
      "image/png": "[encoded data removed]",
      "text/plain": [
       "<Figure size 864x432 with 1 Axes>"
      ]
     },
     "metadata": {
      "needs_background": "light"
     },
     "output_type": "display_data"
    }
   ],
   "source": [
    "labels = ['BNFO', 'CS', 'IS', 'IT', 'MATH']\n",
    "midterm = []\n",
    "final = []\n",
    "final_avg = []\n",
    "for major in labels:\n",
    "    temp = sc_df.loc[(sc_df['Majors'] == major)]\n",
    "    midterm.append(temp['Midterm'].median())\n",
    "    final.append(temp['Final'].median())\n",
    "    final_avg.append(temp['Final Average'].median())\n",
    "x = np.arange(len(labels))  # the label locations\n",
    "\n",
    "fig, ax = plt.subplots()\n",
    "rects1 = ax.bar(x - 0.2, midterm, width=0.2, label='Midterm', color='red')\n",
    "rects2 = ax.bar(x, final, width=0.2, label='Final', color='green')\n",
    "rects2 = ax.bar(x + 0.2, final_avg, width=0.2, label='Final Avg', color='blue')\n",
    "\n",
    "plt.gcf().set_size_inches(12, 6)\n",
    "ax.set_xlabel('Major')\n",
    "ax.set_ylabel('Median Score')\n",
    "ax.set_title('Median Midterm, Final, and Final Average Scores')\n",
    "ax.set_xticks(x)\n",
    "ax.set_xticklabels(labels)\n",
    "ax.legend()\n",
    "\n",
    "fig.tight_layout()\n",
    "\n",
    "plt.show()"
   ]
  },
  {
   "cell_type": "markdown",
   "metadata": {},
   "source": [
    "The items are each person's score. The attributes are the midterm, final, and final average scores. The marks are the bars and the channels are the height of the bar for the value, position of the bar for each major, and color for each type of score. BNFO majors seem do be doing the best since although their Final Average median is approximately the same as all the other majors, their Midterm and Final medians are the highest out of all the majors. MATH and IT majors are doing relatively the same while CS and IS majors are doing about the same. CS and IS majors are also doing worse than MATH and IT majors."
   ]
  },
  {
   "cell_type": "markdown",
   "metadata": {},
   "source": [
    "## Problem 2"
   ]
  },
  {
   "cell_type": "code",
   "execution_count": 5,
   "metadata": {},
   "outputs": [
    {
     "data": {
      "image/png": "[encoded data removed]",
      "text/plain": [
       "<Figure size 864x432 with 1 Axes>"
      ]
     },
     "metadata": {
      "needs_background": "light"
     },
     "output_type": "display_data"
    }
   ],
   "source": [
    "x = sc_df['Final Average']\n",
    "\n",
    "fig, ax = plt.subplots(1, sharey=True, tight_layout=True)\n",
    "plt.gcf().set_size_inches(12, 6)\n",
    "\n",
    "ax.hist(x, bins=6, range=[40, 100])\n",
    "ax.set_xlabel('Grade')\n",
    "ax.set_ylabel('Frequency')\n",
    "ax.set_title('Number of Students in Each Grade Bin')\n",
    "\n",
    "plt.show()"
   ]
  },
  {
   "cell_type": "markdown",
   "metadata": {},
   "source": [
    "The items are each person's score. The attribute is the final average values. The marks are the bars and the channels are the height of the bar for the frequency and position of the bar for each grade bin. The chart is fine for displaying the necessary information but is lacking in visual clarity. It is hard to distinguish individual bars at certain parts. There is also no legend but having one would be unnecessary as there is only one column of data being shown. The title is also lacking in describing that this is for the final average values. The distribution is also left skewed."
   ]
  },
  {
   "cell_type": "markdown",
   "metadata": {},
   "source": [
    "## Problem 3"
   ]
  },
  {
   "cell_type": "code",
   "execution_count": 6,
   "metadata": {},
   "outputs": [
    {
     "data": {
      "image/png": "[encoded data removed]",
      "text/plain": [
       "<Figure size 864x432 with 1 Axes>"
      ]
     },
     "metadata": {
      "needs_background": "light"
     },
     "output_type": "display_data"
    }
   ],
   "source": [
    "N = 500\n",
    "mid = sc_df['Midterm']\n",
    "fin = sc_df['Final']\n",
    "fin_av = sc_df['Final Average']\n",
    "\n",
    "plt.scatter(mid, fin_av, color='red', label='Midterm')\n",
    "plt.scatter(fin, fin_av, color='blue', label='Final')\n",
    "plt.gcf().set_size_inches(12, 6)\n",
    "plt.title('Exams vs Final Average')\n",
    "plt.xlabel('Exam Score')\n",
    "plt.ylabel('Final Average')\n",
    "plt.legend()\n",
    "plt.show()"
   ]
  },
  {
   "cell_type": "markdown",
   "metadata": {},
   "source": [
    "The items are each student. The attributes are the midterm, final, and final average scores. The marks are the points and the channels are the y-position for the final average, x-position for the exam score, and color for distinguishing between midterm and final exam scores. The chart does a good job of displaying the information although the blue points do mask the red points in certain spots. There is no clear correlation between exam scores and final average other than a slight increase in the final average as exam scores increase that does not seem to be meaningful due to the large SSE (Residual Sum of Squares) value."
   ]
  }
 ],
 "metadata": {
  "kernelspec": {
   "display_name": "Python 3",
   "language": "python",
   "name": "python3"
  },
  "language_info": {
   "codemirror_mode": {
    "name": "ipython",
    "version": 3
   },
   "file_extension": ".py",
   "mimetype": "text/x-python",
   "name": "python",
   "nbconvert_exporter": "python",
   "pygments_lexer": "ipython3",
   "version": "3.7.4"
  }
 },
 "nbformat": 4,
 "nbformat_minor": 2
}
